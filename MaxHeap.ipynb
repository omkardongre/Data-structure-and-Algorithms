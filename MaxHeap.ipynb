{
 "cells": [
  {
   "cell_type": "code",
   "execution_count": 144,
   "metadata": {},
   "outputs": [],
   "source": [
    "class maxheap:\n",
    "    def __init__(self):\n",
    "        self.data=[]\n",
    "        self.size=0\n",
    "        \n",
    "        \n",
    "    def __len__(self):\n",
    "        return len(self.data)\n",
    "        \n",
    "    def insert(self,value):\n",
    "        \n",
    "        self.data.append(value)\n",
    "        self.size+=1\n",
    "        \n",
    "        pindex=( self.size-2 )//2\n",
    "        index=self.size-1\n",
    "        while index>=1 and value>self.data[pindex]:\n",
    "            self.data[index]=self.data[pindex]\n",
    "            index=pindex\n",
    "            pindex=(pindex-1)//2\n",
    "        \n",
    "        \n",
    "        self.data[index]=value\n",
    "        \n",
    "        print(self.data)\n",
    "    \n",
    "    def maxh(self):\n",
    "  \n",
    "        if self.data:\n",
    "            return self.data[0]\n",
    "\n",
    "        \n",
    "    def delete(self):\n",
    "        \n",
    "        if not self.size:\n",
    "            return\n",
    "        #last value\n",
    "        lval=self.data.pop()\n",
    "        self.size-=1\n",
    "        curr=0\n",
    "        \n",
    "        #left and right index\n",
    "        lp=curr*2+1\n",
    "        rp=curr*2+2\n",
    "    \n",
    "        while rp<= self.size-1:\n",
    "            if self.data[lp]>self.data[rp]:\n",
    "                self.data[curr]=self.data[lp]\n",
    "                curr=lp\n",
    "            \n",
    "            else:\n",
    "                self.data[curr]=self.data[rp]\n",
    "                curr=rp\n",
    "            \n",
    "            lp=curr*2+1\n",
    "            rp=curr*2+2\n",
    "\n",
    "        if self.data:    \n",
    "            self.data[curr]=lval\n",
    "        \n",
    "        if lp<=self.size-1 and self.data[lp]>lval:\n",
    "            self.data[curr]=self.data[lp]\n",
    "            self.data[lp]=lval\n",
    "        \n",
    "            \n",
    "        \n",
    "        print(self.data)"
   ]
  },
  {
   "cell_type": "code",
   "execution_count": 17,
   "metadata": {},
   "outputs": [],
   "source": []
  },
  {
   "cell_type": "code",
   "execution_count": 145,
   "metadata": {},
   "outputs": [
    {
     "name": "stdout",
     "output_type": "stream",
     "text": [
      "[5]\n",
      "[6, 5]\n",
      "[6, 5, 1]\n",
      "[9, 6, 1, 5]\n",
      "[9, 8, 1, 5, 6]\n",
      "[9, 8, 2, 5, 6, 1]\n"
     ]
    }
   ],
   "source": [
    "        \n",
    "mobj=maxheap()\n",
    "#insertion\n",
    "mobj.insert(5)\n",
    "mobj.insert(6)\n",
    "mobj.insert(1)\n",
    "mobj.insert(9)\n",
    "mobj.insert(8)\n",
    "mobj.insert(2)\n"
   ]
  },
  {
   "cell_type": "code",
   "execution_count": 146,
   "metadata": {},
   "outputs": [
    {
     "data": {
      "text/plain": [
       "9"
      ]
     },
     "execution_count": 146,
     "metadata": {},
     "output_type": "execute_result"
    }
   ],
   "source": [
    "#max element or root element\n",
    "mobj.maxh()\n"
   ]
  },
  {
   "cell_type": "code",
   "execution_count": 147,
   "metadata": {},
   "outputs": [
    {
     "name": "stdout",
     "output_type": "stream",
     "text": [
      "[8, 6, 2, 5, 1]\n"
     ]
    }
   ],
   "source": [
    "mobj.delete()"
   ]
  },
  {
   "cell_type": "code",
   "execution_count": null,
   "metadata": {},
   "outputs": [],
   "source": []
  }
 ],
 "metadata": {
  "kernelspec": {
   "display_name": "Python 3",
   "language": "python",
   "name": "python3"
  },
  "language_info": {
   "codemirror_mode": {
    "name": "ipython",
    "version": 3
   },
   "file_extension": ".py",
   "mimetype": "text/x-python",
   "name": "python",
   "nbconvert_exporter": "python",
   "pygments_lexer": "ipython3",
   "version": "3.7.6"
  }
 },
 "nbformat": 4,
 "nbformat_minor": 4
}
